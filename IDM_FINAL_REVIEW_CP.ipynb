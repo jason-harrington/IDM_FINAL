{
 "cells": [
  {
   "cell_type": "markdown",
   "source": [
    "## IDM FINAL REVIEW: CONSTRAINT PROGRAMMING"
   ],
   "metadata": {
    "collapsed": false
   },
   "id": "b42c863772906f26"
  },
  {
   "cell_type": "markdown",
   "source": [
    "Blackjack is a common poker game where a player is dealt two cards with the goal of having the value of their cards add up to 21. Use OR-Tools and constraint programming to create a function that takes in a number as an argument, and returns how many unique blackjack starting hands add up to that number. (i.e. hands that have 2 cards in them). Some starter code is provided to get you started. For the sake of the problem, assume that Aces can only be worth a value of 11. You do NOT need to differentiate between hands with the same cards in different suits, do not attempt to include suits as part of your formulation."
   ],
   "metadata": {
    "collapsed": false
   },
   "id": "1be0bb7f41e19e62"
  },
  {
   "cell_type": "code",
   "execution_count": 11,
   "id": "initial_id",
   "metadata": {
    "collapsed": true,
    "ExecuteTime": {
     "end_time": "2024-05-05T06:48:24.236730300Z",
     "start_time": "2024-05-05T06:48:24.226484200Z"
    }
   },
   "outputs": [],
   "source": [
    "from ortools.sat.python import cp_model as cp\n",
    "from soln_printer import *"
   ]
  },
  {
   "cell_type": "code",
   "outputs": [],
   "source": [
    "blackjack = cp.CpModel()"
   ],
   "metadata": {
    "collapsed": false,
    "ExecuteTime": {
     "end_time": "2024-05-05T06:48:24.250914500Z",
     "start_time": "2024-05-05T06:48:24.230010900Z"
    }
   },
   "id": "b0a72cc8a6dfc251",
   "execution_count": 12
  },
  {
   "cell_type": "code",
   "outputs": [],
   "source": [
    "ranks = ('Two', 'Three', 'Four', 'Five', 'Six', 'Seven', 'Eight', 'Nine', 'Ten', 'Jack', 'Queen', 'King', 'Ace')\n",
    "values = [2, 3, 4, 5, 6, 7, 8, 9, 10, 10, 10, 10, 11]"
   ],
   "metadata": {
    "collapsed": false,
    "ExecuteTime": {
     "end_time": "2024-05-05T06:48:24.258661300Z",
     "start_time": "2024-05-05T06:48:24.249410500Z"
    }
   },
   "id": "d1e89931a0bae440",
   "execution_count": 13
  },
  {
   "cell_type": "code",
   "outputs": [],
   "source": [],
   "metadata": {
    "collapsed": false
   },
   "id": "77993d1552bd98e1"
  },
  {
   "cell_type": "markdown",
   "source": [
    "Output how many hands add up to 21 points"
   ],
   "metadata": {
    "collapsed": false
   },
   "id": "25efb9f5abd12ebb"
  },
  {
   "cell_type": "code",
   "outputs": [],
   "source": [],
   "metadata": {
    "collapsed": false
   },
   "id": "a7444fc5dce3916e"
  }
 ],
 "metadata": {
  "kernelspec": {
   "display_name": "Python 3",
   "language": "python",
   "name": "python3"
  },
  "language_info": {
   "codemirror_mode": {
    "name": "ipython",
    "version": 2
   },
   "file_extension": ".py",
   "mimetype": "text/x-python",
   "name": "python",
   "nbconvert_exporter": "python",
   "pygments_lexer": "ipython2",
   "version": "2.7.6"
  }
 },
 "nbformat": 4,
 "nbformat_minor": 5
}
