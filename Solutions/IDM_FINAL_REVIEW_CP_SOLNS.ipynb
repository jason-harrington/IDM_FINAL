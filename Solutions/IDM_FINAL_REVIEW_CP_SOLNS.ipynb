{
 "cells": [
  {
   "cell_type": "markdown",
   "source": [
    "## IDM FINAL REVIEW: CONSTRAINT PROGRAMMING"
   ],
   "metadata": {
    "collapsed": false
   },
   "id": "b42c863772906f26"
  },
  {
   "cell_type": "markdown",
   "source": [
    "Blackjack is a common poker game where a player is dealt cards with the goal of having the value of their cards add up to 21. Use OR-Tools and constraint programming to create a function that takes in a number as an argument, and returns how many unique blackjack hands add up to that number. Some starter code is provided to get you started. For the sake of the problem, assume that Aces can only be worth a value of 11. You do NOT need to differentiate between hands with the same cards in different suits, do not attempt to include suits as part of your formulation."
   ],
   "metadata": {
    "collapsed": false
   },
   "id": "1be0bb7f41e19e62"
  },
  {
   "cell_type": "code",
   "execution_count": 6,
   "id": "initial_id",
   "metadata": {
    "collapsed": true,
    "ExecuteTime": {
     "end_time": "2024-05-05T06:47:57.654505800Z",
     "start_time": "2024-05-05T06:47:57.651399400Z"
    }
   },
   "outputs": [],
   "source": [
    "from ortools.sat.python import cp_model as cp\n",
    "from soln_printer import *"
   ]
  },
  {
   "cell_type": "code",
   "outputs": [],
   "source": [
    "blackjack = cp.CpModel()"
   ],
   "metadata": {
    "collapsed": false,
    "ExecuteTime": {
     "end_time": "2024-05-05T06:45:50.567543700Z",
     "start_time": "2024-05-05T06:45:50.564033600Z"
    }
   },
   "id": "b0a72cc8a6dfc251",
   "execution_count": 2
  },
  {
   "cell_type": "code",
   "outputs": [],
   "source": [
    "# creating variables\n",
    "ranks = ('Two', 'Three', 'Four', 'Five', 'Six', 'Seven', 'Eight', 'Nine', 'Ten', 'Jack', 'Queen', 'King', 'Ace')\n",
    "values = [2, 3, 4, 5, 6, 7, 8, 9, 10, 10, 10, 10, 11]\n",
    "\n",
    "vars  = [blackjack.NewIntVar(0, 2, f'{rank}') for rank in ranks]"
   ],
   "metadata": {
    "collapsed": false,
    "ExecuteTime": {
     "end_time": "2024-05-05T06:48:33.552869200Z",
     "start_time": "2024-05-05T06:48:33.549745200Z"
    }
   },
   "id": "d1e89931a0bae440",
   "execution_count": 8
  },
  {
   "cell_type": "code",
   "outputs": [],
   "source": [
    "def find_hands(model, value):\n",
    "    model.Add(sum(vars[i]*values[i] for i in range(len(ranks))) == value)\n",
    "    return model"
   ],
   "metadata": {
    "collapsed": false,
    "ExecuteTime": {
     "end_time": "2024-05-05T06:45:50.604589700Z",
     "start_time": "2024-05-05T06:45:50.579152500Z"
    }
   },
   "id": "28739f3b319dd91a",
   "execution_count": 4
  },
  {
   "cell_type": "markdown",
   "source": [
    "Output how many hands add up to 21"
   ],
   "metadata": {
    "collapsed": false
   },
   "id": "86f0c13803d252f2"
  },
  {
   "cell_type": "code",
   "outputs": [
    {
     "name": "stdout",
     "output_type": "stream",
     "text": [
      "Two=0 Three=0 Four=0 Five=1 Six=0 Seven=0 Eight=2 Nine=0 Ten=0 Jack=0 Queen=0 King=0 Ace=0 \n",
      "Two=1 Three=1 Four=0 Five=0 Six=0 Seven=0 Eight=2 Nine=0 Ten=0 Jack=0 Queen=0 King=0 Ace=0 \n",
      "Two=0 Three=0 Four=2 Five=1 Six=0 Seven=0 Eight=1 Nine=0 Ten=0 Jack=0 Queen=0 King=0 Ace=0 \n",
      "Two=1 Three=2 Four=2 Five=1 Six=0 Seven=0 Eight=0 Nine=0 Ten=0 Jack=0 Queen=0 King=0 Ace=0 \n",
      "Two=0 Three=1 Four=0 Five=0 Six=0 Seven=0 Eight=0 Nine=2 Ten=0 Jack=0 Queen=0 King=0 Ace=0 \n",
      "Two=0 Three=1 Four=0 Five=0 Six=0 Seven=0 Eight=1 Nine=0 Ten=0 Jack=1 Queen=0 King=0 Ace=0 \n",
      "Two=0 Three=1 Four=0 Five=0 Six=0 Seven=0 Eight=1 Nine=0 Ten=0 Jack=0 Queen=1 King=0 Ace=0 \n",
      "Two=0 Three=1 Four=2 Five=0 Six=0 Seven=0 Eight=0 Nine=0 Ten=0 Jack=0 Queen=1 King=0 Ace=0 \n",
      "Two=1 Three=1 Four=0 Five=0 Six=1 Seven=0 Eight=0 Nine=0 Ten=0 Jack=0 Queen=1 King=0 Ace=0 \n",
      "Two=0 Three=1 Four=0 Five=1 Six=1 Seven=1 Eight=0 Nine=0 Ten=0 Jack=0 Queen=0 King=0 Ace=0 \n",
      "Two=0 Three=0 Four=1 Five=1 Six=2 Seven=0 Eight=0 Nine=0 Ten=0 Jack=0 Queen=0 King=0 Ace=0 \n",
      "Two=2 Three=0 Four=1 Five=1 Six=0 Seven=0 Eight=1 Nine=0 Ten=0 Jack=0 Queen=0 King=0 Ace=0 \n",
      "Two=0 Three=1 Four=0 Five=0 Six=0 Seven=0 Eight=1 Nine=0 Ten=0 Jack=0 Queen=0 King=1 Ace=0 \n",
      "Two=0 Three=1 Four=0 Five=0 Six=0 Seven=0 Eight=1 Nine=0 Ten=1 Jack=0 Queen=0 King=0 Ace=0 \n",
      "Two=1 Three=0 Four=0 Five=0 Six=0 Seven=0 Eight=0 Nine=1 Ten=0 Jack=0 Queen=0 King=1 Ace=0 \n",
      "Two=2 Three=0 Four=0 Five=0 Six=0 Seven=0 Eight=1 Nine=1 Ten=0 Jack=0 Queen=0 King=0 Ace=0 \n",
      "Two=1 Three=0 Four=0 Five=0 Six=0 Seven=0 Eight=0 Nine=1 Ten=0 Jack=1 Queen=0 King=0 Ace=0 \n",
      "Two=1 Three=0 Four=0 Five=0 Six=0 Seven=0 Eight=0 Nine=1 Ten=1 Jack=0 Queen=0 King=0 Ace=0 \n",
      "Two=0 Three=0 Four=0 Five=0 Six=2 Seven=0 Eight=0 Nine=1 Ten=0 Jack=0 Queen=0 King=0 Ace=0 \n",
      "Two=0 Three=0 Four=1 Five=0 Six=0 Seven=0 Eight=1 Nine=1 Ten=0 Jack=0 Queen=0 King=0 Ace=0 \n",
      "Two=2 Three=0 Four=2 Five=0 Six=0 Seven=0 Eight=0 Nine=1 Ten=0 Jack=0 Queen=0 King=0 Ace=0 \n",
      "Two=1 Three=0 Four=1 Five=0 Six=1 Seven=0 Eight=0 Nine=1 Ten=0 Jack=0 Queen=0 King=0 Ace=0 \n",
      "Two=2 Three=1 Four=0 Five=0 Six=1 Seven=0 Eight=1 Nine=0 Ten=0 Jack=0 Queen=0 King=0 Ace=0 \n",
      "Two=0 Three=2 Four=0 Five=0 Six=1 Seven=0 Eight=0 Nine=1 Ten=0 Jack=0 Queen=0 King=0 Ace=0 \n",
      "Two=1 Three=1 Four=0 Five=0 Six=1 Seven=0 Eight=0 Nine=0 Ten=0 Jack=1 Queen=0 King=0 Ace=0 \n",
      "Two=1 Three=1 Four=0 Five=0 Six=1 Seven=0 Eight=0 Nine=0 Ten=0 Jack=0 Queen=0 King=1 Ace=0 \n",
      "Two=1 Three=1 Four=0 Five=0 Six=1 Seven=0 Eight=0 Nine=0 Ten=1 Jack=0 Queen=0 King=0 Ace=0 \n",
      "Two=2 Three=0 Four=0 Five=0 Six=0 Seven=1 Eight=0 Nine=0 Ten=0 Jack=1 Queen=0 King=0 Ace=0 \n",
      "Two=0 Three=2 Four=0 Five=1 Six=0 Seven=0 Eight=0 Nine=0 Ten=0 Jack=1 Queen=0 King=0 Ace=0 \n",
      "Two=2 Three=1 Four=0 Five=1 Six=0 Seven=0 Eight=0 Nine=1 Ten=0 Jack=0 Queen=0 King=0 Ace=0 \n",
      "Two=1 Three=2 Four=0 Five=1 Six=0 Seven=0 Eight=1 Nine=0 Ten=0 Jack=0 Queen=0 King=0 Ace=0 \n",
      "Two=2 Three=0 Four=0 Five=1 Six=2 Seven=0 Eight=0 Nine=0 Ten=0 Jack=0 Queen=0 King=0 Ace=0 \n",
      "Two=1 Three=0 Four=0 Five=0 Six=0 Seven=0 Eight=0 Nine=1 Ten=0 Jack=0 Queen=1 King=0 Ace=0 \n",
      "Two=2 Three=1 Four=1 Five=0 Six=0 Seven=0 Eight=0 Nine=0 Ten=0 Jack=1 Queen=0 King=0 Ace=0 \n",
      "Two=0 Three=1 Four=2 Five=0 Six=0 Seven=0 Eight=0 Nine=0 Ten=0 Jack=1 Queen=0 King=0 Ace=0 \n",
      "Two=2 Three=0 Four=0 Five=0 Six=1 Seven=0 Eight=0 Nine=0 Ten=0 Jack=0 Queen=0 King=0 Ace=1 \n",
      "Two=1 Three=0 Four=0 Five=0 Six=0 Seven=0 Eight=1 Nine=0 Ten=0 Jack=0 Queen=0 King=0 Ace=1 \n",
      "Two=0 Three=0 Four=0 Five=0 Six=0 Seven=0 Eight=0 Nine=0 Ten=0 Jack=1 Queen=0 King=0 Ace=1 \n",
      "Two=0 Three=0 Four=0 Five=0 Six=0 Seven=0 Eight=0 Nine=0 Ten=0 Jack=0 Queen=0 King=1 Ace=1 \n",
      "Two=2 Three=2 Four=0 Five=0 Six=0 Seven=0 Eight=0 Nine=0 Ten=0 Jack=0 Queen=0 King=0 Ace=1 \n",
      "Two=0 Three=0 Four=0 Five=0 Six=0 Seven=0 Eight=0 Nine=0 Ten=1 Jack=0 Queen=0 King=0 Ace=1 \n",
      "Two=0 Three=0 Four=0 Five=0 Six=0 Seven=0 Eight=0 Nine=0 Ten=0 Jack=0 Queen=1 King=0 Ace=1 \n",
      "Two=0 Three=0 Four=1 Five=0 Six=1 Seven=0 Eight=0 Nine=0 Ten=0 Jack=0 Queen=0 King=0 Ace=1 \n",
      "Two=1 Three=0 Four=2 Five=0 Six=0 Seven=0 Eight=0 Nine=0 Ten=0 Jack=0 Queen=0 King=0 Ace=1 \n",
      "Two=0 Three=2 Four=1 Five=0 Six=0 Seven=0 Eight=0 Nine=0 Ten=0 Jack=0 Queen=0 King=0 Ace=1 \n",
      "Two=0 Three=1 Four=0 Five=0 Six=0 Seven=1 Eight=0 Nine=0 Ten=0 Jack=0 Queen=0 King=0 Ace=1 \n",
      "Two=1 Three=1 Four=0 Five=1 Six=0 Seven=0 Eight=0 Nine=0 Ten=0 Jack=0 Queen=0 King=0 Ace=1 \n",
      "Two=1 Three=1 Four=2 Five=0 Six=0 Seven=0 Eight=1 Nine=0 Ten=0 Jack=0 Queen=0 King=0 Ace=0 \n",
      "Two=0 Three=0 Four=0 Five=2 Six=0 Seven=0 Eight=0 Nine=0 Ten=0 Jack=0 Queen=0 King=0 Ace=1 \n",
      "Two=0 Three=0 Four=0 Five=1 Six=1 Seven=0 Eight=0 Nine=0 Ten=0 Jack=1 Queen=0 King=0 Ace=0 \n",
      "Two=1 Three=0 Four=0 Five=1 Six=1 Seven=0 Eight=1 Nine=0 Ten=0 Jack=0 Queen=0 King=0 Ace=0 \n",
      "Two=0 Three=0 Four=0 Five=1 Six=1 Seven=0 Eight=0 Nine=0 Ten=0 Jack=0 Queen=0 King=1 Ace=0 \n",
      "Two=0 Three=2 Four=0 Five=1 Six=0 Seven=0 Eight=0 Nine=0 Ten=0 Jack=0 Queen=0 King=1 Ace=0 \n",
      "Two=2 Three=2 Four=0 Five=1 Six=1 Seven=0 Eight=0 Nine=0 Ten=0 Jack=0 Queen=0 King=0 Ace=0 \n",
      "Two=1 Three=1 Four=1 Five=0 Six=2 Seven=0 Eight=0 Nine=0 Ten=0 Jack=0 Queen=0 King=0 Ace=0 \n",
      "Two=1 Three=1 Four=0 Five=2 Six=1 Seven=0 Eight=0 Nine=0 Ten=0 Jack=0 Queen=0 King=0 Ace=0 \n",
      "Two=0 Three=1 Four=0 Five=2 Six=0 Seven=0 Eight=1 Nine=0 Ten=0 Jack=0 Queen=0 King=0 Ace=0 \n",
      "Two=0 Three=2 Four=0 Five=1 Six=0 Seven=0 Eight=0 Nine=0 Ten=1 Jack=0 Queen=0 King=0 Ace=0 \n",
      "Two=1 Three=0 Four=0 Five=2 Six=0 Seven=0 Eight=0 Nine=1 Ten=0 Jack=0 Queen=0 King=0 Ace=0 \n",
      "Two=0 Three=0 Four=0 Five=1 Six=1 Seven=0 Eight=0 Nine=0 Ten=1 Jack=0 Queen=0 King=0 Ace=0 \n",
      "Two=2 Three=1 Four=1 Five=2 Six=0 Seven=0 Eight=0 Nine=0 Ten=0 Jack=0 Queen=0 King=0 Ace=0 \n",
      "Two=0 Three=0 Four=0 Five=1 Six=1 Seven=0 Eight=0 Nine=0 Ten=0 Jack=0 Queen=1 King=0 Ace=0 \n",
      "Two=0 Three=2 Four=0 Five=1 Six=0 Seven=0 Eight=0 Nine=0 Ten=0 Jack=0 Queen=1 King=0 Ace=0 \n",
      "Two=2 Three=1 Four=1 Five=0 Six=0 Seven=0 Eight=0 Nine=0 Ten=0 Jack=0 Queen=0 King=1 Ace=0 \n",
      "Two=0 Three=1 Four=2 Five=0 Six=0 Seven=0 Eight=0 Nine=0 Ten=0 Jack=0 Queen=0 King=1 Ace=0 \n",
      "Two=0 Three=1 Four=2 Five=2 Six=0 Seven=0 Eight=0 Nine=0 Ten=0 Jack=0 Queen=0 King=0 Ace=0 \n",
      "Two=0 Three=1 Four=1 Five=0 Six=1 Seven=0 Eight=1 Nine=0 Ten=0 Jack=0 Queen=0 King=0 Ace=0 \n",
      "Two=2 Three=1 Four=2 Five=0 Six=1 Seven=0 Eight=0 Nine=0 Ten=0 Jack=0 Queen=0 King=0 Ace=0 \n",
      "Two=1 Three=2 Four=1 Five=0 Six=0 Seven=0 Eight=0 Nine=1 Ten=0 Jack=0 Queen=0 King=0 Ace=0 \n",
      "Two=2 Three=1 Four=1 Five=0 Six=0 Seven=0 Eight=0 Nine=0 Ten=0 Jack=0 Queen=1 King=0 Ace=0 \n",
      "Two=0 Three=1 Four=2 Five=0 Six=0 Seven=0 Eight=0 Nine=0 Ten=1 Jack=0 Queen=0 King=0 Ace=0 \n",
      "Two=2 Three=1 Four=1 Five=0 Six=0 Seven=0 Eight=0 Nine=0 Ten=1 Jack=0 Queen=0 King=0 Ace=0 \n",
      "Two=0 Three=0 Four=0 Five=1 Six=0 Seven=1 Eight=0 Nine=1 Ten=0 Jack=0 Queen=0 King=0 Ace=0 \n",
      "Two=1 Three=1 Four=1 Five=1 Six=0 Seven=1 Eight=0 Nine=0 Ten=0 Jack=0 Queen=0 King=0 Ace=0 \n",
      "Two=1 Three=0 Four=0 Five=1 Six=0 Seven=2 Eight=0 Nine=0 Ten=0 Jack=0 Queen=0 King=0 Ace=0 \n",
      "Two=2 Three=1 Four=0 Five=0 Six=0 Seven=2 Eight=0 Nine=0 Ten=0 Jack=0 Queen=0 King=0 Ace=0 \n",
      "Two=0 Three=1 Four=1 Five=0 Six=0 Seven=2 Eight=0 Nine=0 Ten=0 Jack=0 Queen=0 King=0 Ace=0 \n",
      "Two=1 Three=0 Four=0 Five=0 Six=2 Seven=1 Eight=0 Nine=0 Ten=0 Jack=0 Queen=0 King=0 Ace=0 \n",
      "Two=0 Three=0 Four=0 Five=0 Six=1 Seven=1 Eight=1 Nine=0 Ten=0 Jack=0 Queen=0 King=0 Ace=0 \n",
      "Two=2 Three=0 Four=0 Five=2 Six=0 Seven=1 Eight=0 Nine=0 Ten=0 Jack=0 Queen=0 King=0 Ace=0 \n",
      "Two=2 Three=0 Four=0 Five=0 Six=0 Seven=1 Eight=0 Nine=0 Ten=0 Jack=0 Queen=0 King=1 Ace=0 \n",
      "Two=2 Three=0 Four=0 Five=0 Six=0 Seven=1 Eight=0 Nine=0 Ten=0 Jack=0 Queen=1 King=0 Ace=0 \n",
      "Two=1 Three=0 Four=1 Five=1 Six=0 Seven=0 Eight=0 Nine=0 Ten=0 Jack=1 Queen=0 King=0 Ace=0 \n",
      "Two=0 Three=1 Four=1 Five=1 Six=0 Seven=0 Eight=0 Nine=1 Ten=0 Jack=0 Queen=0 King=0 Ace=0 \n",
      "Two=1 Three=0 Four=1 Five=1 Six=0 Seven=0 Eight=0 Nine=0 Ten=0 Jack=0 Queen=0 King=1 Ace=0 \n",
      "Two=1 Three=0 Four=2 Five=1 Six=1 Seven=0 Eight=0 Nine=0 Ten=0 Jack=0 Queen=0 King=0 Ace=0 \n",
      "Two=1 Three=0 Four=1 Five=1 Six=0 Seven=0 Eight=0 Nine=0 Ten=0 Jack=0 Queen=1 King=0 Ace=0 \n",
      "Two=0 Three=2 Four=1 Five=1 Six=1 Seven=0 Eight=0 Nine=0 Ten=0 Jack=0 Queen=0 King=0 Ace=0 \n",
      "Two=1 Three=0 Four=1 Five=1 Six=0 Seven=0 Eight=0 Nine=0 Ten=1 Jack=0 Queen=0 King=0 Ace=0 \n",
      "Two=0 Three=2 Four=0 Five=0 Six=0 Seven=1 Eight=1 Nine=0 Ten=0 Jack=0 Queen=0 King=0 Ace=0 \n",
      "Two=1 Three=1 Four=0 Five=0 Six=0 Seven=1 Eight=0 Nine=1 Ten=0 Jack=0 Queen=0 King=0 Ace=0 \n",
      "Two=1 Three=2 Four=0 Five=0 Six=1 Seven=1 Eight=0 Nine=0 Ten=0 Jack=0 Queen=0 King=0 Ace=0 \n",
      "Two=0 Three=0 Four=2 Five=0 Six=1 Seven=1 Eight=0 Nine=0 Ten=0 Jack=0 Queen=0 King=0 Ace=0 \n",
      "Two=2 Three=0 Four=1 Five=0 Six=1 Seven=1 Eight=0 Nine=0 Ten=0 Jack=0 Queen=0 King=0 Ace=0 \n",
      "Two=0 Three=0 Four=1 Five=0 Six=0 Seven=1 Eight=0 Nine=0 Ten=0 Jack=0 Queen=0 King=1 Ace=0 \n",
      "Two=0 Three=0 Four=1 Five=0 Six=0 Seven=1 Eight=0 Nine=0 Ten=1 Jack=0 Queen=0 King=0 Ace=0 \n",
      "Two=2 Three=0 Four=0 Five=0 Six=0 Seven=1 Eight=0 Nine=0 Ten=1 Jack=0 Queen=0 King=0 Ace=0 \n",
      "Two=0 Three=0 Four=1 Five=0 Six=0 Seven=1 Eight=0 Nine=0 Ten=0 Jack=0 Queen=1 King=0 Ace=0 \n",
      "Two=1 Three=0 Four=1 Five=0 Six=0 Seven=1 Eight=1 Nine=0 Ten=0 Jack=0 Queen=0 King=0 Ace=0 \n",
      "Two=0 Three=0 Four=1 Five=0 Six=0 Seven=1 Eight=0 Nine=0 Ten=0 Jack=1 Queen=0 King=0 Ace=0 \n",
      "Two=0 Three=2 Four=2 Five=0 Six=0 Seven=1 Eight=0 Nine=0 Ten=0 Jack=0 Queen=0 King=0 Ace=0 \n",
      "Two=0 Three=0 Four=1 Five=2 Six=0 Seven=1 Eight=0 Nine=0 Ten=0 Jack=0 Queen=0 King=0 Ace=0 \n",
      "Two=2 Three=2 Four=1 Five=0 Six=0 Seven=1 Eight=0 Nine=0 Ten=0 Jack=0 Queen=0 King=0 Ace=0 \n",
      "Number of solutions found: 103\n"
     ]
    }
   ],
   "source": [
    "blackjack = find_hands(blackjack, 21)\n",
    "solver = cp.CpSolver()\n",
    "print_all_solns(vars, blackjack, solver)"
   ],
   "metadata": {
    "collapsed": false,
    "ExecuteTime": {
     "end_time": "2024-05-05T06:45:50.691962500Z",
     "start_time": "2024-05-05T06:45:50.588548600Z"
    }
   },
   "id": "246db421206a1729",
   "execution_count": 5
  }
 ],
 "metadata": {
  "kernelspec": {
   "display_name": "Python 3",
   "language": "python",
   "name": "python3"
  },
  "language_info": {
   "codemirror_mode": {
    "name": "ipython",
    "version": 2
   },
   "file_extension": ".py",
   "mimetype": "text/x-python",
   "name": "python",
   "nbconvert_exporter": "python",
   "pygments_lexer": "ipython2",
   "version": "2.7.6"
  }
 },
 "nbformat": 4,
 "nbformat_minor": 5
}
