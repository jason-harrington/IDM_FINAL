{
 "cells": [
  {
   "cell_type": "markdown",
   "source": [
    "## IDM FINAL REVIEW: CONSTRAINT PROGRAMMING"
   ],
   "metadata": {
    "collapsed": false
   },
   "id": "b42c863772906f26"
  },
  {
   "cell_type": "markdown",
   "source": [
    "Blackjack is a common poker game where a player is dealt cards with the goal of having the value of their cards add up to 21. Use OR-Tools and constraint programming to create a function that takes in a number as an argument, and returns how many unique blackjack hands add up to that number. Some starter code is provided to get you started. For the sake of the problem, assume that Aces can only be worth a value of 11. You do NOT need to differentiate between hands with the same cards in different suits, do not attempt to include suits as part of your formulation."
   ],
   "metadata": {
    "collapsed": false
   },
   "id": "1be0bb7f41e19e62"
  },
  {
   "cell_type": "code",
   "execution_count": 29,
   "id": "initial_id",
   "metadata": {
    "collapsed": true,
    "ExecuteTime": {
     "end_time": "2024-05-05T18:52:39.065011400Z",
     "start_time": "2024-05-05T18:52:39.020991400Z"
    }
   },
   "outputs": [],
   "source": [
    "from ortools.sat.python import cp_model as cp\n",
    "from soln_printer import *"
   ]
  },
  {
   "cell_type": "code",
   "outputs": [],
   "source": [
    "blackjack = cp.CpModel()"
   ],
   "metadata": {
    "collapsed": false,
    "ExecuteTime": {
     "end_time": "2024-05-05T18:52:39.074338900Z",
     "start_time": "2024-05-05T18:52:39.067012500Z"
    }
   },
   "id": "b0a72cc8a6dfc251",
   "execution_count": 30
  },
  {
   "cell_type": "code",
   "outputs": [],
   "source": [
    "# creating variables\n",
    "ranks = ('Two', 'Three', 'Four', 'Five', 'Six', 'Seven', 'Eight', 'Nine', 'Ten', 'Jack', 'Queen', 'King', 'Ace')\n",
    "values = [2, 3, 4, 5, 6, 7, 8, 9, 10, 10, 10, 10, 11]\n",
    "\n",
    "vars  = [blackjack.NewIntVar(0, 4, f'{rank}') for rank in ranks]"
   ],
   "metadata": {
    "collapsed": false,
    "ExecuteTime": {
     "end_time": "2024-05-05T18:52:39.083139200Z",
     "start_time": "2024-05-05T18:52:39.070817200Z"
    }
   },
   "id": "d1e89931a0bae440",
   "execution_count": 31
  },
  {
   "cell_type": "code",
   "outputs": [],
   "source": [
    "def find_hands(model, value):\n",
    "    model.Add(sum(vars[i]*values[i] for i in range(len(ranks))) == value)\n",
    "    model.Add(sum(vars[i] for i in range(len(ranks))) >= 2)\n",
    "    return model"
   ],
   "metadata": {
    "collapsed": false,
    "ExecuteTime": {
     "end_time": "2024-05-05T18:52:39.098351300Z",
     "start_time": "2024-05-05T18:52:39.083139200Z"
    }
   },
   "id": "28739f3b319dd91a",
   "execution_count": 32
  },
  {
   "cell_type": "markdown",
   "source": [
    "Output how many hands add up to 21"
   ],
   "metadata": {
    "collapsed": false
   },
   "id": "86f0c13803d252f2"
  },
  {
   "cell_type": "code",
   "outputs": [
    {
     "name": "stdout",
     "output_type": "stream",
     "text": [
      "Two=0 Three=1 Four=0 Five=0 Six=0 Seven=0 Eight=0 Nine=2 Ten=0 Jack=0 Queen=0 King=0 Ace=0 \n",
      "Two=4 Three=1 Four=0 Five=0 Six=0 Seven=0 Eight=0 Nine=0 Ten=0 Jack=0 Queen=1 King=0 Ace=0 \n",
      "Two=1 Three=0 Four=0 Five=0 Six=0 Seven=0 Eight=0 Nine=1 Ten=0 Jack=0 Queen=1 King=0 Ace=0 \n",
      "Two=1 Three=0 Four=0 Five=0 Six=0 Seven=0 Eight=0 Nine=1 Ten=0 Jack=0 Queen=0 King=1 Ace=0 \n",
      "Two=1 Three=0 Four=1 Five=1 Six=0 Seven=0 Eight=0 Nine=0 Ten=0 Jack=0 Queen=0 King=1 Ace=0 \n",
      "Two=1 Three=0 Four=1 Five=1 Six=0 Seven=0 Eight=0 Nine=0 Ten=0 Jack=1 Queen=0 King=0 Ace=0 \n",
      "Two=3 Three=0 Four=0 Five=1 Six=0 Seven=0 Eight=0 Nine=0 Ten=0 Jack=1 Queen=0 King=0 Ace=0 \n",
      "Two=3 Three=0 Four=0 Five=1 Six=0 Seven=0 Eight=0 Nine=0 Ten=1 Jack=0 Queen=0 King=0 Ace=0 \n",
      "Two=3 Three=0 Four=0 Five=3 Six=0 Seven=0 Eight=0 Nine=0 Ten=0 Jack=0 Queen=0 King=0 Ace=0 \n",
      "Two=0 Three=0 Four=0 Five=3 Six=1 Seven=0 Eight=0 Nine=0 Ten=0 Jack=0 Queen=0 King=0 Ace=0 \n",
      "Two=1 Three=0 Four=1 Five=3 Six=0 Seven=0 Eight=0 Nine=0 Ten=0 Jack=0 Queen=0 King=0 Ace=0 \n",
      "Two=1 Three=0 Four=0 Five=2 Six=0 Seven=0 Eight=0 Nine=1 Ten=0 Jack=0 Queen=0 King=0 Ace=0 \n",
      "Two=0 Three=0 Four=3 Five=0 Six=0 Seven=0 Eight=0 Nine=1 Ten=0 Jack=0 Queen=0 King=0 Ace=0 \n",
      "Two=2 Three=0 Four=2 Five=0 Six=0 Seven=0 Eight=0 Nine=1 Ten=0 Jack=0 Queen=0 King=0 Ace=0 \n",
      "Two=1 Three=0 Four=0 Five=0 Six=0 Seven=0 Eight=0 Nine=1 Ten=1 Jack=0 Queen=0 King=0 Ace=0 \n",
      "Two=1 Three=0 Four=0 Five=0 Six=0 Seven=0 Eight=0 Nine=1 Ten=0 Jack=1 Queen=0 King=0 Ace=0 \n",
      "Two=2 Three=0 Four=0 Five=0 Six=0 Seven=0 Eight=1 Nine=1 Ten=0 Jack=0 Queen=0 King=0 Ace=0 \n",
      "Two=0 Three=0 Four=0 Five=1 Six=0 Seven=0 Eight=2 Nine=0 Ten=0 Jack=0 Queen=0 King=0 Ace=0 \n",
      "Two=1 Three=0 Four=1 Five=1 Six=0 Seven=0 Eight=0 Nine=0 Ten=0 Jack=0 Queen=1 King=0 Ace=0 \n",
      "Two=0 Three=0 Four=0 Five=0 Six=0 Seven=0 Eight=0 Nine=0 Ten=0 Jack=0 Queen=1 King=0 Ace=1 \n",
      "Two=0 Three=0 Four=0 Five=0 Six=0 Seven=0 Eight=0 Nine=0 Ten=1 Jack=0 Queen=0 King=0 Ace=1 \n",
      "Two=2 Three=0 Four=0 Five=0 Six=1 Seven=0 Eight=0 Nine=0 Ten=0 Jack=0 Queen=0 King=0 Ace=1 \n",
      "Two=0 Three=0 Four=0 Five=0 Six=0 Seven=0 Eight=0 Nine=0 Ten=0 Jack=0 Queen=0 King=1 Ace=1 \n",
      "Two=0 Three=0 Four=0 Five=0 Six=0 Seven=3 Eight=0 Nine=0 Ten=0 Jack=0 Queen=0 King=0 Ace=0 \n",
      "Two=1 Three=0 Four=0 Five=1 Six=0 Seven=2 Eight=0 Nine=0 Ten=0 Jack=0 Queen=0 King=0 Ace=0 \n",
      "Two=0 Three=0 Four=1 Five=0 Six=0 Seven=1 Eight=0 Nine=0 Ten=0 Jack=0 Queen=1 King=0 Ace=0 \n",
      "Two=2 Three=0 Four=0 Five=0 Six=0 Seven=1 Eight=0 Nine=0 Ten=0 Jack=0 Queen=1 King=0 Ace=0 \n",
      "Two=1 Three=0 Four=3 Five=0 Six=0 Seven=1 Eight=0 Nine=0 Ten=0 Jack=0 Queen=0 King=0 Ace=0 \n",
      "Two=1 Three=0 Four=0 Five=0 Six=2 Seven=1 Eight=0 Nine=0 Ten=0 Jack=0 Queen=0 King=0 Ace=0 \n",
      "Two=4 Three=0 Four=0 Five=0 Six=1 Seven=1 Eight=0 Nine=0 Ten=0 Jack=0 Queen=0 King=0 Ace=0 \n",
      "Two=3 Three=0 Four=0 Five=0 Six=1 Seven=0 Eight=0 Nine=1 Ten=0 Jack=0 Queen=0 King=0 Ace=0 \n",
      "Two=0 Three=0 Four=0 Five=0 Six=2 Seven=0 Eight=0 Nine=1 Ten=0 Jack=0 Queen=0 King=0 Ace=0 \n",
      "Two=4 Three=0 Four=1 Five=0 Six=0 Seven=0 Eight=0 Nine=1 Ten=0 Jack=0 Queen=0 King=0 Ace=0 \n",
      "Two=1 Three=0 Four=1 Five=0 Six=1 Seven=0 Eight=0 Nine=1 Ten=0 Jack=0 Queen=0 King=0 Ace=0 \n",
      "Two=0 Three=0 Four=1 Five=0 Six=0 Seven=0 Eight=1 Nine=1 Ten=0 Jack=0 Queen=0 King=0 Ace=0 \n",
      "Two=4 Three=3 Four=1 Five=0 Six=0 Seven=0 Eight=0 Nine=0 Ten=0 Jack=0 Queen=0 King=0 Ace=0 \n",
      "Two=0 Three=4 Four=0 Five=0 Six=0 Seven=0 Eight=0 Nine=1 Ten=0 Jack=0 Queen=0 King=0 Ace=0 \n",
      "Two=3 Three=2 Four=0 Five=0 Six=0 Seven=0 Eight=0 Nine=1 Ten=0 Jack=0 Queen=0 King=0 Ace=0 \n",
      "Two=4 Three=1 Four=0 Five=0 Six=0 Seven=0 Eight=0 Nine=0 Ten=1 Jack=0 Queen=0 King=0 Ace=0 \n",
      "Two=1 Three=3 Four=0 Five=0 Six=0 Seven=0 Eight=0 Nine=0 Ten=1 Jack=0 Queen=0 King=0 Ace=0 \n",
      "Two=2 Three=0 Four=0 Five=0 Six=0 Seven=1 Eight=0 Nine=0 Ten=0 Jack=1 Queen=0 King=0 Ace=0 \n",
      "Two=1 Three=2 Four=0 Five=0 Six=1 Seven=1 Eight=0 Nine=0 Ten=0 Jack=0 Queen=0 King=0 Ace=0 \n",
      "Two=3 Three=0 Four=2 Five=0 Six=0 Seven=1 Eight=0 Nine=0 Ten=0 Jack=0 Queen=0 King=0 Ace=0 \n",
      "Two=0 Three=2 Four=2 Five=0 Six=0 Seven=1 Eight=0 Nine=0 Ten=0 Jack=0 Queen=0 King=0 Ace=0 \n",
      "Two=0 Three=0 Four=2 Five=0 Six=1 Seven=1 Eight=0 Nine=0 Ten=0 Jack=0 Queen=0 King=0 Ace=0 \n",
      "Two=2 Three=1 Four=0 Five=0 Six=0 Seven=2 Eight=0 Nine=0 Ten=0 Jack=0 Queen=0 King=0 Ace=0 \n",
      "Two=1 Three=2 Four=1 Five=0 Six=0 Seven=0 Eight=0 Nine=1 Ten=0 Jack=0 Queen=0 King=0 Ace=0 \n",
      "Two=2 Three=1 Four=1 Five=0 Six=0 Seven=0 Eight=0 Nine=0 Ten=1 Jack=0 Queen=0 King=0 Ace=0 \n",
      "Two=1 Three=3 Four=0 Five=0 Six=0 Seven=0 Eight=0 Nine=0 Ten=0 Jack=1 Queen=0 King=0 Ace=0 \n",
      "Two=4 Three=1 Four=0 Five=0 Six=0 Seven=0 Eight=0 Nine=0 Ten=0 Jack=1 Queen=0 King=0 Ace=0 \n",
      "Two=0 Three=1 Four=0 Five=0 Six=3 Seven=0 Eight=0 Nine=0 Ten=0 Jack=0 Queen=0 King=0 Ace=0 \n",
      "Two=3 Three=1 Four=0 Five=0 Six=2 Seven=0 Eight=0 Nine=0 Ten=0 Jack=0 Queen=0 King=0 Ace=0 \n",
      "Two=0 Three=2 Four=0 Five=0 Six=1 Seven=0 Eight=0 Nine=1 Ten=0 Jack=0 Queen=0 King=0 Ace=0 \n",
      "Two=0 Three=3 Four=0 Five=0 Six=2 Seven=0 Eight=0 Nine=0 Ten=0 Jack=0 Queen=0 King=0 Ace=0 \n",
      "Two=4 Three=1 Four=0 Five=0 Six=0 Seven=0 Eight=0 Nine=0 Ten=0 Jack=0 Queen=0 King=1 Ace=0 \n",
      "Two=1 Three=3 Four=0 Five=0 Six=0 Seven=0 Eight=0 Nine=0 Ten=0 Jack=0 Queen=0 King=1 Ace=0 \n",
      "Two=1 Three=1 Four=0 Five=0 Six=0 Seven=0 Eight=2 Nine=0 Ten=0 Jack=0 Queen=0 King=0 Ace=0 \n",
      "Two=2 Three=3 Four=0 Five=0 Six=0 Seven=0 Eight=1 Nine=0 Ten=0 Jack=0 Queen=0 King=0 Ace=0 \n",
      "Two=0 Three=1 Four=0 Five=0 Six=0 Seven=0 Eight=1 Nine=0 Ten=1 Jack=0 Queen=0 King=0 Ace=0 \n",
      "Two=0 Three=1 Four=0 Five=0 Six=0 Seven=0 Eight=1 Nine=0 Ten=0 Jack=1 Queen=0 King=0 Ace=0 \n",
      "Two=0 Three=1 Four=0 Five=0 Six=0 Seven=0 Eight=1 Nine=0 Ten=0 Jack=0 Queen=0 King=1 Ace=0 \n",
      "Two=1 Three=1 Four=4 Five=0 Six=0 Seven=0 Eight=0 Nine=0 Ten=0 Jack=0 Queen=0 King=0 Ace=0 \n",
      "Two=0 Three=0 Four=4 Five=1 Six=0 Seven=0 Eight=0 Nine=0 Ten=0 Jack=0 Queen=0 King=0 Ace=0 \n",
      "Two=2 Three=0 Four=3 Five=1 Six=0 Seven=0 Eight=0 Nine=0 Ten=0 Jack=0 Queen=0 King=0 Ace=0 \n",
      "Two=4 Three=1 Four=0 Five=2 Six=0 Seven=0 Eight=0 Nine=0 Ten=0 Jack=0 Queen=0 King=0 Ace=0 \n",
      "Two=3 Three=1 Four=3 Five=0 Six=0 Seven=0 Eight=0 Nine=0 Ten=0 Jack=0 Queen=0 King=0 Ace=0 \n",
      "Two=4 Three=0 Four=2 Five=1 Six=0 Seven=0 Eight=0 Nine=0 Ten=0 Jack=0 Queen=0 King=0 Ace=0 \n",
      "Two=0 Three=3 Four=3 Five=0 Six=0 Seven=0 Eight=0 Nine=0 Ten=0 Jack=0 Queen=0 King=0 Ace=0 \n",
      "Two=1 Three=2 Four=2 Five=1 Six=0 Seven=0 Eight=0 Nine=0 Ten=0 Jack=0 Queen=0 King=0 Ace=0 \n",
      "Two=2 Three=3 Four=2 Five=0 Six=0 Seven=0 Eight=0 Nine=0 Ten=0 Jack=0 Queen=0 King=0 Ace=0 \n",
      "Two=0 Three=1 Four=2 Five=0 Six=0 Seven=0 Eight=0 Nine=0 Ten=1 Jack=0 Queen=0 King=0 Ace=0 \n",
      "Two=0 Three=1 Four=2 Five=0 Six=0 Seven=0 Eight=0 Nine=0 Ten=0 Jack=1 Queen=0 King=0 Ace=0 \n",
      "Two=0 Three=0 Four=2 Five=1 Six=0 Seven=0 Eight=1 Nine=0 Ten=0 Jack=0 Queen=0 King=0 Ace=0 \n",
      "Two=2 Three=1 Four=1 Five=0 Six=0 Seven=0 Eight=0 Nine=0 Ten=0 Jack=1 Queen=0 King=0 Ace=0 \n",
      "Two=0 Three=1 Four=2 Five=0 Six=0 Seven=0 Eight=0 Nine=0 Ten=0 Jack=0 Queen=0 King=1 Ace=0 \n",
      "Two=0 Three=1 Four=1 Five=1 Six=0 Seven=0 Eight=0 Nine=1 Ten=0 Jack=0 Queen=0 King=0 Ace=0 \n",
      "Two=2 Three=1 Four=1 Five=0 Six=0 Seven=0 Eight=0 Nine=0 Ten=0 Jack=0 Queen=0 King=1 Ace=0 \n",
      "Two=0 Three=3 Four=1 Five=0 Six=0 Seven=0 Eight=1 Nine=0 Ten=0 Jack=0 Queen=0 King=0 Ace=0 \n",
      "Two=1 Three=1 Four=2 Five=0 Six=0 Seven=0 Eight=1 Nine=0 Ten=0 Jack=0 Queen=0 King=0 Ace=0 \n",
      "Two=0 Three=4 Four=1 Five=1 Six=0 Seven=0 Eight=0 Nine=0 Ten=0 Jack=0 Queen=0 King=0 Ace=0 \n",
      "Two=3 Three=1 Four=1 Five=0 Six=0 Seven=0 Eight=1 Nine=0 Ten=0 Jack=0 Queen=0 King=0 Ace=0 \n",
      "Two=1 Three=3 Four=0 Five=0 Six=0 Seven=0 Eight=0 Nine=0 Ten=0 Jack=0 Queen=1 King=0 Ace=0 \n",
      "Two=2 Three=1 Four=1 Five=0 Six=0 Seven=0 Eight=0 Nine=0 Ten=0 Jack=0 Queen=1 King=0 Ace=0 \n",
      "Two=0 Three=1 Four=2 Five=0 Six=0 Seven=0 Eight=0 Nine=0 Ten=0 Jack=0 Queen=1 King=0 Ace=0 \n",
      "Two=0 Three=1 Four=0 Five=0 Six=0 Seven=0 Eight=1 Nine=0 Ten=0 Jack=0 Queen=1 King=0 Ace=0 \n",
      "Two=3 Three=3 Four=0 Five=0 Six=1 Seven=0 Eight=0 Nine=0 Ten=0 Jack=0 Queen=0 King=0 Ace=0 \n",
      "Two=0 Three=1 Four=3 Five=0 Six=1 Seven=0 Eight=0 Nine=0 Ten=0 Jack=0 Queen=0 King=0 Ace=0 \n",
      "Two=3 Three=2 Four=1 Five=1 Six=0 Seven=0 Eight=0 Nine=0 Ten=0 Jack=0 Queen=0 King=0 Ace=0 \n",
      "Two=1 Three=1 Four=1 Five=0 Six=2 Seven=0 Eight=0 Nine=0 Ten=0 Jack=0 Queen=0 King=0 Ace=0 \n",
      "Two=4 Three=1 Four=1 Five=0 Six=1 Seven=0 Eight=0 Nine=0 Ten=0 Jack=0 Queen=0 King=0 Ace=0 \n",
      "Two=2 Three=1 Four=2 Five=0 Six=1 Seven=0 Eight=0 Nine=0 Ten=0 Jack=0 Queen=0 King=0 Ace=0 \n",
      "Two=1 Three=3 Four=1 Five=0 Six=1 Seven=0 Eight=0 Nine=0 Ten=0 Jack=0 Queen=0 King=0 Ace=0 \n",
      "Two=1 Three=1 Four=0 Five=0 Six=1 Seven=0 Eight=0 Nine=0 Ten=1 Jack=0 Queen=0 King=0 Ace=0 \n",
      "Two=1 Three=1 Four=0 Five=0 Six=1 Seven=0 Eight=0 Nine=0 Ten=0 Jack=1 Queen=0 King=0 Ace=0 \n",
      "Two=1 Three=1 Four=0 Five=0 Six=1 Seven=0 Eight=0 Nine=0 Ten=0 Jack=0 Queen=0 King=1 Ace=0 \n",
      "Two=0 Three=1 Four=1 Five=0 Six=1 Seven=0 Eight=1 Nine=0 Ten=0 Jack=0 Queen=0 King=0 Ace=0 \n",
      "Two=3 Three=0 Four=0 Five=1 Six=0 Seven=0 Eight=0 Nine=0 Ten=0 Jack=0 Queen=0 King=1 Ace=0 \n",
      "Two=0 Three=2 Four=0 Five=3 Six=0 Seven=0 Eight=0 Nine=0 Ten=0 Jack=0 Queen=0 King=0 Ace=0 \n",
      "Two=2 Three=4 Four=0 Five=1 Six=0 Seven=0 Eight=0 Nine=0 Ten=0 Jack=0 Queen=0 King=0 Ace=0 \n",
      "Two=2 Three=1 Four=0 Five=1 Six=0 Seven=0 Eight=0 Nine=1 Ten=0 Jack=0 Queen=0 King=0 Ace=0 \n",
      "Two=1 Three=1 Four=0 Five=0 Six=1 Seven=0 Eight=0 Nine=0 Ten=0 Jack=0 Queen=1 King=0 Ace=0 \n",
      "Two=2 Three=1 Four=0 Five=0 Six=1 Seven=0 Eight=1 Nine=0 Ten=0 Jack=0 Queen=0 King=0 Ace=0 \n",
      "Two=0 Three=2 Four=0 Five=1 Six=0 Seven=0 Eight=0 Nine=0 Ten=0 Jack=1 Queen=0 King=0 Ace=0 \n",
      "Two=0 Three=2 Four=0 Five=1 Six=0 Seven=0 Eight=0 Nine=0 Ten=1 Jack=0 Queen=0 King=0 Ace=0 \n",
      "Two=3 Three=0 Four=0 Five=1 Six=0 Seven=0 Eight=0 Nine=0 Ten=0 Jack=0 Queen=1 King=0 Ace=0 \n",
      "Two=2 Three=0 Four=1 Five=1 Six=0 Seven=0 Eight=1 Nine=0 Ten=0 Jack=0 Queen=0 King=0 Ace=0 \n",
      "Two=4 Three=0 Four=0 Five=1 Six=0 Seven=0 Eight=1 Nine=0 Ten=0 Jack=0 Queen=0 King=0 Ace=0 \n",
      "Two=3 Three=0 Four=1 Five=1 Six=1 Seven=0 Eight=0 Nine=0 Ten=0 Jack=0 Queen=0 King=0 Ace=0 \n",
      "Two=0 Three=0 Four=1 Five=1 Six=2 Seven=0 Eight=0 Nine=0 Ten=0 Jack=0 Queen=0 King=0 Ace=0 \n",
      "Two=1 Three=0 Four=0 Five=1 Six=1 Seven=0 Eight=1 Nine=0 Ten=0 Jack=0 Queen=0 King=0 Ace=0 \n",
      "Two=0 Three=0 Four=0 Five=1 Six=1 Seven=0 Eight=0 Nine=0 Ten=0 Jack=0 Queen=1 King=0 Ace=0 \n",
      "Two=0 Three=0 Four=1 Five=0 Six=0 Seven=1 Eight=0 Nine=0 Ten=0 Jack=0 Queen=0 King=1 Ace=0 \n",
      "Two=2 Three=0 Four=0 Five=0 Six=0 Seven=1 Eight=0 Nine=0 Ten=0 Jack=0 Queen=0 King=1 Ace=0 \n",
      "Two=0 Three=0 Four=0 Five=1 Six=1 Seven=0 Eight=0 Nine=0 Ten=0 Jack=1 Queen=0 King=0 Ace=0 \n",
      "Two=0 Three=0 Four=1 Five=0 Six=0 Seven=1 Eight=0 Nine=0 Ten=0 Jack=1 Queen=0 King=0 Ace=0 \n",
      "Two=1 Three=0 Four=1 Five=0 Six=0 Seven=1 Eight=1 Nine=0 Ten=0 Jack=0 Queen=0 King=0 Ace=0 \n",
      "Two=3 Three=0 Four=0 Five=0 Six=0 Seven=1 Eight=1 Nine=0 Ten=0 Jack=0 Queen=0 King=0 Ace=0 \n",
      "Two=2 Three=0 Four=1 Five=0 Six=1 Seven=1 Eight=0 Nine=0 Ten=0 Jack=0 Queen=0 King=0 Ace=0 \n",
      "Two=0 Three=0 Four=0 Five=0 Six=1 Seven=1 Eight=1 Nine=0 Ten=0 Jack=0 Queen=0 King=0 Ace=0 \n",
      "Two=2 Three=0 Four=0 Five=0 Six=0 Seven=1 Eight=0 Nine=0 Ten=1 Jack=0 Queen=0 King=0 Ace=0 \n",
      "Two=0 Three=0 Four=1 Five=0 Six=0 Seven=1 Eight=0 Nine=0 Ten=1 Jack=0 Queen=0 King=0 Ace=0 \n",
      "Two=4 Three=2 Four=0 Five=0 Six=0 Seven=1 Eight=0 Nine=0 Ten=0 Jack=0 Queen=0 King=0 Ace=0 \n",
      "Two=2 Three=0 Four=0 Five=1 Six=2 Seven=0 Eight=0 Nine=0 Ten=0 Jack=0 Queen=0 King=0 Ace=0 \n",
      "Two=0 Three=1 Four=2 Five=2 Six=0 Seven=0 Eight=0 Nine=0 Ten=0 Jack=0 Queen=0 King=0 Ace=0 \n",
      "Two=2 Three=1 Four=1 Five=2 Six=0 Seven=0 Eight=0 Nine=0 Ten=0 Jack=0 Queen=0 King=0 Ace=0 \n",
      "Two=1 Three=0 Four=2 Five=1 Six=1 Seven=0 Eight=0 Nine=0 Ten=0 Jack=0 Queen=0 King=0 Ace=0 \n",
      "Two=0 Three=0 Four=0 Five=1 Six=1 Seven=0 Eight=0 Nine=0 Ten=0 Jack=0 Queen=0 King=1 Ace=0 \n",
      "Two=1 Three=0 Four=1 Five=1 Six=0 Seven=0 Eight=0 Nine=0 Ten=1 Jack=0 Queen=0 King=0 Ace=0 \n",
      "Two=0 Three=0 Four=0 Five=1 Six=1 Seven=0 Eight=0 Nine=0 Ten=1 Jack=0 Queen=0 King=0 Ace=0 \n",
      "Two=1 Three=3 Four=0 Five=2 Six=0 Seven=0 Eight=0 Nine=0 Ten=0 Jack=0 Queen=0 King=0 Ace=0 \n",
      "Two=0 Three=2 Four=0 Five=1 Six=0 Seven=0 Eight=0 Nine=0 Ten=0 Jack=0 Queen=1 King=0 Ace=0 \n",
      "Two=0 Three=1 Four=0 Five=2 Six=0 Seven=0 Eight=1 Nine=0 Ten=0 Jack=0 Queen=0 King=0 Ace=0 \n",
      "Two=1 Three=2 Four=0 Five=1 Six=0 Seven=0 Eight=1 Nine=0 Ten=0 Jack=0 Queen=0 King=0 Ace=0 \n",
      "Two=0 Three=2 Four=0 Five=1 Six=0 Seven=0 Eight=0 Nine=0 Ten=0 Jack=0 Queen=0 King=1 Ace=0 \n",
      "Two=1 Three=1 Four=0 Five=2 Six=1 Seven=0 Eight=0 Nine=0 Ten=0 Jack=0 Queen=0 King=0 Ace=0 \n",
      "Two=2 Three=2 Four=0 Five=1 Six=1 Seven=0 Eight=0 Nine=0 Ten=0 Jack=0 Queen=0 King=0 Ace=0 \n",
      "Two=0 Three=2 Four=1 Five=1 Six=1 Seven=0 Eight=0 Nine=0 Ten=0 Jack=0 Queen=0 King=0 Ace=0 \n",
      "Two=0 Three=0 Four=0 Five=2 Six=0 Seven=0 Eight=0 Nine=0 Ten=0 Jack=0 Queen=0 King=0 Ace=1 \n",
      "Two=1 Three=1 Four=0 Five=1 Six=0 Seven=0 Eight=0 Nine=0 Ten=0 Jack=0 Queen=0 King=0 Ace=1 \n",
      "Two=2 Three=2 Four=0 Five=0 Six=0 Seven=0 Eight=0 Nine=0 Ten=0 Jack=0 Queen=0 King=0 Ace=1 \n",
      "Two=3 Three=0 Four=1 Five=0 Six=0 Seven=0 Eight=0 Nine=0 Ten=0 Jack=0 Queen=0 King=0 Ace=1 \n",
      "Two=1 Three=0 Four=2 Five=0 Six=0 Seven=0 Eight=0 Nine=0 Ten=0 Jack=0 Queen=0 King=0 Ace=1 \n",
      "Two=0 Three=2 Four=1 Five=0 Six=0 Seven=0 Eight=0 Nine=0 Ten=0 Jack=0 Queen=0 King=0 Ace=1 \n",
      "Two=0 Three=0 Four=0 Five=0 Six=0 Seven=0 Eight=0 Nine=0 Ten=0 Jack=1 Queen=0 King=0 Ace=1 \n",
      "Two=1 Three=0 Four=0 Five=0 Six=0 Seven=0 Eight=1 Nine=0 Ten=0 Jack=0 Queen=0 King=0 Ace=1 \n",
      "Two=0 Three=0 Four=1 Five=0 Six=1 Seven=0 Eight=0 Nine=0 Ten=0 Jack=0 Queen=0 King=0 Ace=1 \n",
      "Two=0 Three=1 Four=0 Five=1 Six=1 Seven=1 Eight=0 Nine=0 Ten=0 Jack=0 Queen=0 King=0 Ace=0 \n",
      "Two=1 Three=1 Four=0 Five=0 Six=0 Seven=1 Eight=0 Nine=1 Ten=0 Jack=0 Queen=0 King=0 Ace=0 \n",
      "Two=1 Three=4 Four=0 Five=0 Six=0 Seven=1 Eight=0 Nine=0 Ten=0 Jack=0 Queen=0 King=0 Ace=0 \n",
      "Two=0 Three=2 Four=0 Five=0 Six=0 Seven=1 Eight=1 Nine=0 Ten=0 Jack=0 Queen=0 King=0 Ace=0 \n",
      "Two=2 Three=2 Four=1 Five=0 Six=0 Seven=1 Eight=0 Nine=0 Ten=0 Jack=0 Queen=0 King=0 Ace=0 \n",
      "Two=0 Three=1 Four=1 Five=0 Six=0 Seven=2 Eight=0 Nine=0 Ten=0 Jack=0 Queen=0 King=0 Ace=0 \n",
      "Two=0 Three=0 Four=0 Five=1 Six=0 Seven=1 Eight=0 Nine=1 Ten=0 Jack=0 Queen=0 King=0 Ace=0 \n",
      "Two=2 Three=0 Four=0 Five=2 Six=0 Seven=1 Eight=0 Nine=0 Ten=0 Jack=0 Queen=0 King=0 Ace=0 \n",
      "Two=0 Three=0 Four=1 Five=2 Six=0 Seven=1 Eight=0 Nine=0 Ten=0 Jack=0 Queen=0 King=0 Ace=0 \n",
      "Two=3 Three=1 Four=0 Five=1 Six=0 Seven=1 Eight=0 Nine=0 Ten=0 Jack=0 Queen=0 King=0 Ace=0 \n",
      "Two=1 Three=1 Four=1 Five=1 Six=0 Seven=1 Eight=0 Nine=0 Ten=0 Jack=0 Queen=0 King=0 Ace=0 \n",
      "Two=0 Three=3 Four=0 Five=1 Six=0 Seven=1 Eight=0 Nine=0 Ten=0 Jack=0 Queen=0 King=0 Ace=0 \n",
      "Two=0 Three=1 Four=0 Five=0 Six=0 Seven=1 Eight=0 Nine=0 Ten=0 Jack=0 Queen=0 King=0 Ace=1 \n",
      "Number of solutions found: 159\n"
     ]
    }
   ],
   "source": [
    "blackjack = find_hands(blackjack, 21)\n",
    "solver = cp.CpSolver()\n",
    "print_all_solns(vars, blackjack, solver)"
   ],
   "metadata": {
    "collapsed": false,
    "ExecuteTime": {
     "end_time": "2024-05-05T18:52:39.203957300Z",
     "start_time": "2024-05-05T18:52:39.092998600Z"
    }
   },
   "id": "246db421206a1729",
   "execution_count": 33
  }
 ],
 "metadata": {
  "kernelspec": {
   "display_name": "Python 3",
   "language": "python",
   "name": "python3"
  },
  "language_info": {
   "codemirror_mode": {
    "name": "ipython",
    "version": 2
   },
   "file_extension": ".py",
   "mimetype": "text/x-python",
   "name": "python",
   "nbconvert_exporter": "python",
   "pygments_lexer": "ipython2",
   "version": "2.7.6"
  }
 },
 "nbformat": 4,
 "nbformat_minor": 5
}
